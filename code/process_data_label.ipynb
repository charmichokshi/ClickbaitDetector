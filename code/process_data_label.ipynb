{
 "cells": [
  {
   "cell_type": "markdown",
   "id": "e55cacfc",
   "metadata": {},
   "source": [
    "#### Process Dataset for Clickbait detection task based on either headline or headline and article both"
   ]
  },
  {
   "cell_type": "markdown",
   "id": "826d6786",
   "metadata": {},
   "source": [
    "Reads the data saved in 'Webis17Processed', drops unnecessary columns, process some of the special characters and save train, validation, and test set."
   ]
  },
  {
   "cell_type": "code",
   "execution_count": 195,
   "id": "b121edb5",
   "metadata": {},
   "outputs": [],
   "source": [
    "import numpy as np\n",
    "import pandas as pd\n",
    "import json\n",
    "import os"
   ]
  },
  {
   "cell_type": "code",
   "execution_count": 196,
   "id": "8b04a894",
   "metadata": {},
   "outputs": [],
   "source": [
    "path = './Webis17Processed/'"
   ]
  },
  {
   "cell_type": "code",
   "execution_count": 197,
   "id": "ed12662a",
   "metadata": {},
   "outputs": [
    {
     "name": "stdout",
     "output_type": "stream",
     "text": [
      "validation.csv\n",
      "train.csv\n",
      "test.csv\n"
     ]
    }
   ],
   "source": [
    "for f in os.listdir(path):\n",
    "    print(f)"
   ]
  },
  {
   "cell_type": "code",
   "execution_count": 198,
   "id": "ce426bec",
   "metadata": {},
   "outputs": [],
   "source": [
    "df_train = pd.read_csv(path+'train.csv')\n",
    "df_validation = pd.read_csv(path+'validation.csv')\n",
    "df_test = pd.read_csv(path+'test.csv')"
   ]
  },
  {
   "cell_type": "code",
   "execution_count": 199,
   "id": "577138ad",
   "metadata": {},
   "outputs": [
    {
     "data": {
      "text/html": [
       "<div>\n",
       "<style scoped>\n",
       "    .dataframe tbody tr th:only-of-type {\n",
       "        vertical-align: middle;\n",
       "    }\n",
       "\n",
       "    .dataframe tbody tr th {\n",
       "        vertical-align: top;\n",
       "    }\n",
       "\n",
       "    .dataframe thead th {\n",
       "        text-align: right;\n",
       "    }\n",
       "</style>\n",
       "<table border=\"1\" class=\"dataframe\">\n",
       "  <thead>\n",
       "    <tr style=\"text-align: right;\">\n",
       "      <th></th>\n",
       "      <th>postMedia</th>\n",
       "      <th>postText</th>\n",
       "      <th>id</th>\n",
       "      <th>targetCaptions</th>\n",
       "      <th>targetParagraphs</th>\n",
       "      <th>targetTitle</th>\n",
       "      <th>postTimestamp</th>\n",
       "      <th>targetKeywords</th>\n",
       "      <th>targetDescription</th>\n",
       "      <th>truthJudgments</th>\n",
       "      <th>truthMean</th>\n",
       "      <th>truthClass</th>\n",
       "      <th>truthMedian</th>\n",
       "      <th>truthMode</th>\n",
       "    </tr>\n",
       "  </thead>\n",
       "  <tbody>\n",
       "    <tr>\n",
       "      <th>0</th>\n",
       "      <td>[]</td>\n",
       "      <td>['UK’s response to modern slavery leaving vict...</td>\n",
       "      <td>858462320779026432</td>\n",
       "      <td>['modern-slavery-rex.jpg']</td>\n",
       "      <td>['Thousands of modern slavery victims have\\xa0...</td>\n",
       "      <td>‘Inexcusable’ failures in UK’s response to mod...</td>\n",
       "      <td>Sat Apr 29 23:25:41 +0000 2017</td>\n",
       "      <td>modern slavery, Department For Work And Pensio...</td>\n",
       "      <td>“Inexcusable” failures in the UK’s system for ...</td>\n",
       "      <td>[0.33333333330000003, 0.0, 0.33333333330000003...</td>\n",
       "      <td>0.133333</td>\n",
       "      <td>no-clickbait</td>\n",
       "      <td>0.000000</td>\n",
       "      <td>0.000000</td>\n",
       "    </tr>\n",
       "    <tr>\n",
       "      <th>1</th>\n",
       "      <td>[]</td>\n",
       "      <td>['this is good']</td>\n",
       "      <td>858421020331560960</td>\n",
       "      <td>['In this July 1, 2010 file photo, Dr. Charmai...</td>\n",
       "      <td>['President Donald Trump has appointed the\\xa0...</td>\n",
       "      <td>Donald Trump Appoints Pro-Life Advocate as Ass...</td>\n",
       "      <td>Sat Apr 29 20:41:34 +0000 2017</td>\n",
       "      <td>Americans United for Life, Dr. Charmaine Yoest...</td>\n",
       "      <td>President Donald Trump has appointed pro-life ...</td>\n",
       "      <td>[1.0, 1.0, 1.0, 1.0, 1.0]</td>\n",
       "      <td>1.000000</td>\n",
       "      <td>clickbait</td>\n",
       "      <td>1.000000</td>\n",
       "      <td>1.000000</td>\n",
       "    </tr>\n",
       "    <tr>\n",
       "      <th>2</th>\n",
       "      <td>[]</td>\n",
       "      <td>['The \"forgotten\" Trump roast: Relive his brut...</td>\n",
       "      <td>858368123753435136</td>\n",
       "      <td>[\"President Trump will not attend this year's ...</td>\n",
       "      <td>['When the\\xa0White House correspondents’ dinn...</td>\n",
       "      <td>The ‘forgotten’ Trump roast: Relive his brutal...</td>\n",
       "      <td>Sat Apr 29 17:11:23 +0000 2017</td>\n",
       "      <td>trump whcd, whcd, white house correspondents d...</td>\n",
       "      <td>President Trump won't be at this year's White ...</td>\n",
       "      <td>[0.33333333330000003, 1.0, 0.33333333330000003...</td>\n",
       "      <td>0.466667</td>\n",
       "      <td>no-clickbait</td>\n",
       "      <td>0.333333</td>\n",
       "      <td>0.333333</td>\n",
       "    </tr>\n",
       "    <tr>\n",
       "      <th>3</th>\n",
       "      <td>[]</td>\n",
       "      <td>['Meet the happiest #dog in the world!']</td>\n",
       "      <td>858323428260139008</td>\n",
       "      <td>['Maru ', 'Maru', 'Maru', 'Maru', 'Maru']</td>\n",
       "      <td>['Adorable is probably an understatement. This...</td>\n",
       "      <td>Meet The Happiest Dog In The World, Maru The H...</td>\n",
       "      <td>Sat Apr 29 14:13:46 +0000 2017</td>\n",
       "      <td>Maru, husky, dogs, pandas, furball, instagram</td>\n",
       "      <td>The article is about Maru, a husky dog who has...</td>\n",
       "      <td>[1.0, 0.6666666666000001, 1.0, 1.0, 1.0]</td>\n",
       "      <td>0.933333</td>\n",
       "      <td>clickbait</td>\n",
       "      <td>1.000000</td>\n",
       "      <td>1.000000</td>\n",
       "    </tr>\n",
       "    <tr>\n",
       "      <th>4</th>\n",
       "      <td>[]</td>\n",
       "      <td>[\"Tokyo's subway is shut down amid fears over ...</td>\n",
       "      <td>858283602626347008</td>\n",
       "      <td>[\"All nine lines of Tokyo's subway system were...</td>\n",
       "      <td>[\"One of Tokyo's major subways systems says it...</td>\n",
       "      <td>Tokyo's subway is shut down amid fears over an...</td>\n",
       "      <td>Sat Apr 29 11:35:31 +0000 2017</td>\n",
       "      <td>Tokyo,subway,shut,fears,North,Korean,attack</td>\n",
       "      <td>The temporary suspension, which lasted ten min...</td>\n",
       "      <td>[0.0, 0.0, 0.0, 0.0, 0.0]</td>\n",
       "      <td>0.000000</td>\n",
       "      <td>no-clickbait</td>\n",
       "      <td>0.000000</td>\n",
       "      <td>0.000000</td>\n",
       "    </tr>\n",
       "  </tbody>\n",
       "</table>\n",
       "</div>"
      ],
      "text/plain": [
       "  postMedia                                           postText  \\\n",
       "0        []  ['UK’s response to modern slavery leaving vict...   \n",
       "1        []                                   ['this is good']   \n",
       "2        []  ['The \"forgotten\" Trump roast: Relive his brut...   \n",
       "3        []           ['Meet the happiest #dog in the world!']   \n",
       "4        []  [\"Tokyo's subway is shut down amid fears over ...   \n",
       "\n",
       "                   id                                     targetCaptions  \\\n",
       "0  858462320779026432                         ['modern-slavery-rex.jpg']   \n",
       "1  858421020331560960  ['In this July 1, 2010 file photo, Dr. Charmai...   \n",
       "2  858368123753435136  [\"President Trump will not attend this year's ...   \n",
       "3  858323428260139008          ['Maru ', 'Maru', 'Maru', 'Maru', 'Maru']   \n",
       "4  858283602626347008  [\"All nine lines of Tokyo's subway system were...   \n",
       "\n",
       "                                    targetParagraphs  \\\n",
       "0  ['Thousands of modern slavery victims have\\xa0...   \n",
       "1  ['President Donald Trump has appointed the\\xa0...   \n",
       "2  ['When the\\xa0White House correspondents’ dinn...   \n",
       "3  ['Adorable is probably an understatement. This...   \n",
       "4  [\"One of Tokyo's major subways systems says it...   \n",
       "\n",
       "                                         targetTitle  \\\n",
       "0  ‘Inexcusable’ failures in UK’s response to mod...   \n",
       "1  Donald Trump Appoints Pro-Life Advocate as Ass...   \n",
       "2  The ‘forgotten’ Trump roast: Relive his brutal...   \n",
       "3  Meet The Happiest Dog In The World, Maru The H...   \n",
       "4  Tokyo's subway is shut down amid fears over an...   \n",
       "\n",
       "                    postTimestamp  \\\n",
       "0  Sat Apr 29 23:25:41 +0000 2017   \n",
       "1  Sat Apr 29 20:41:34 +0000 2017   \n",
       "2  Sat Apr 29 17:11:23 +0000 2017   \n",
       "3  Sat Apr 29 14:13:46 +0000 2017   \n",
       "4  Sat Apr 29 11:35:31 +0000 2017   \n",
       "\n",
       "                                      targetKeywords  \\\n",
       "0  modern slavery, Department For Work And Pensio...   \n",
       "1  Americans United for Life, Dr. Charmaine Yoest...   \n",
       "2  trump whcd, whcd, white house correspondents d...   \n",
       "3      Maru, husky, dogs, pandas, furball, instagram   \n",
       "4        Tokyo,subway,shut,fears,North,Korean,attack   \n",
       "\n",
       "                                   targetDescription  \\\n",
       "0  “Inexcusable” failures in the UK’s system for ...   \n",
       "1  President Donald Trump has appointed pro-life ...   \n",
       "2  President Trump won't be at this year's White ...   \n",
       "3  The article is about Maru, a husky dog who has...   \n",
       "4  The temporary suspension, which lasted ten min...   \n",
       "\n",
       "                                      truthJudgments  truthMean    truthClass  \\\n",
       "0  [0.33333333330000003, 0.0, 0.33333333330000003...   0.133333  no-clickbait   \n",
       "1                          [1.0, 1.0, 1.0, 1.0, 1.0]   1.000000     clickbait   \n",
       "2  [0.33333333330000003, 1.0, 0.33333333330000003...   0.466667  no-clickbait   \n",
       "3           [1.0, 0.6666666666000001, 1.0, 1.0, 1.0]   0.933333     clickbait   \n",
       "4                          [0.0, 0.0, 0.0, 0.0, 0.0]   0.000000  no-clickbait   \n",
       "\n",
       "   truthMedian  truthMode  \n",
       "0     0.000000   0.000000  \n",
       "1     1.000000   1.000000  \n",
       "2     0.333333   0.333333  \n",
       "3     1.000000   1.000000  \n",
       "4     0.000000   0.000000  "
      ]
     },
     "execution_count": 199,
     "metadata": {},
     "output_type": "execute_result"
    }
   ],
   "source": [
    "df_train.head()"
   ]
  },
  {
   "cell_type": "code",
   "execution_count": 200,
   "id": "880a30fb",
   "metadata": {},
   "outputs": [
    {
     "name": "stdout",
     "output_type": "stream",
     "text": [
      "TRAIN DATA: 19538\n",
      "clickbait count: 4761 | clickbait %: 24.37\n",
      "no-clickbait count: 14777 | no-clickbait %: 75.63\n"
     ]
    }
   ],
   "source": [
    "stat = df_train[\"truthClass\"].value_counts()\n",
    "clickbait = (stat[\"clickbait\"]*100)/(df_train.shape[0])\n",
    "no_clickbait = 100-clickbait\n",
    "print('TRAIN DATA:', len(df_train))\n",
    "print('clickbait count:', stat['clickbait'], '| clickbait %:', round(clickbait, 2))\n",
    "print('no-clickbait count:', stat['no-clickbait'], '| no-clickbait %:', round(no_clickbait, 2))"
   ]
  },
  {
   "cell_type": "code",
   "execution_count": 201,
   "id": "b9bf262a",
   "metadata": {},
   "outputs": [
    {
     "name": "stdout",
     "output_type": "stream",
     "text": [
      "VALIDATION DATA: 2459\n",
      "clickbait count: 762 | clickbait %: 3.9\n",
      "no-clickbait count: 1697 | no-clickbait %: 96.1\n"
     ]
    }
   ],
   "source": [
    "stat = df_validation[\"truthClass\"].value_counts()\n",
    "clickbait = (stat[\"clickbait\"]*100)/(df_train.shape[0])\n",
    "no_clickbait = 100-clickbait\n",
    "print('VALIDATION DATA:', len(df_validation))\n",
    "print('clickbait count:', stat['clickbait'], '| clickbait %:', round(clickbait, 2))\n",
    "print('no-clickbait count:', stat['no-clickbait'], '| no-clickbait %:', round(no_clickbait, 2))"
   ]
  },
  {
   "cell_type": "code",
   "execution_count": 202,
   "id": "3a6e34a4",
   "metadata": {},
   "outputs": [
    {
     "name": "stdout",
     "output_type": "stream",
     "text": [
      "TEST DATA: 18979\n",
      "clickbait count: 4515 | clickbait %: 23.11\n",
      "no-clickbait count: 14464 | no-clickbait %: 76.89\n"
     ]
    }
   ],
   "source": [
    "stat = df_test[\"truthClass\"].value_counts()\n",
    "clickbait = (stat[\"clickbait\"]*100)/(df_train.shape[0])\n",
    "no_clickbait = 100-clickbait\n",
    "print('TEST DATA:', len(df_test))\n",
    "print('clickbait count:', stat['clickbait'], '| clickbait %:', round(clickbait, 2))\n",
    "print('no-clickbait count:', stat['no-clickbait'], '| no-clickbait %:', round(no_clickbait, 2))"
   ]
  },
  {
   "cell_type": "code",
   "execution_count": 203,
   "id": "28a01cf5",
   "metadata": {},
   "outputs": [
    {
     "data": {
      "text/plain": [
       "Index(['postMedia', 'postText', 'id', 'targetCaptions', 'targetParagraphs',\n",
       "       'targetTitle', 'postTimestamp', 'targetKeywords', 'targetDescription',\n",
       "       'truthJudgments', 'truthMean', 'truthClass', 'truthMedian',\n",
       "       'truthMode'],\n",
       "      dtype='object')"
      ]
     },
     "execution_count": 203,
     "metadata": {},
     "output_type": "execute_result"
    }
   ],
   "source": [
    "df_train.columns"
   ]
  },
  {
   "cell_type": "code",
   "execution_count": 204,
   "id": "cc4d698b",
   "metadata": {},
   "outputs": [],
   "source": [
    "drop_cols = ['postMedia', 'id', 'targetCaptions', 'targetParagraphs', 'targetTitle', 'postTimestamp', 'targetKeywords',\n",
    "            'targetDescription', 'truthJudgments', 'truthMean', 'truthMedian', 'truthMode']\n",
    "# drop_cols = ['postMedia', 'id', 'targetCaptions', 'targetTitle', 'postTimestamp', 'targetKeywords',\n",
    "#             'targetDescription', 'truthJudgments', 'truthMean', 'truthMedian', 'truthMode']\n",
    "df_train = df_train.drop(drop_cols, axis=1)\n",
    "df_validation = df_validation.drop(drop_cols, axis=1)\n",
    "df_test = df_test.drop(drop_cols, axis=1)"
   ]
  },
  {
   "cell_type": "code",
   "execution_count": 205,
   "id": "f42c0212",
   "metadata": {},
   "outputs": [],
   "source": [
    "# change postext from str of list of str to str\n",
    "for index, row in df_train.iterrows():\n",
    "    row['postText'] = row['postText'][2:-2].replace('\\\\','')\n",
    "    \n",
    "for index, row in df_validation.iterrows():\n",
    "    row['postText'] = row['postText'][2:-2].replace('\\\\','')\n",
    "    \n",
    "for index, row in df_test.iterrows():\n",
    "    row['postText'] = row['postText'][2:-2].replace('\\\\','')"
   ]
  },
  {
   "cell_type": "code",
   "execution_count": 188,
   "id": "f9acc57c",
   "metadata": {},
   "outputs": [],
   "source": [
    "######## uncomment for generating Webis17HeadlineArticleClsData data ########\n",
    "\n",
    "# # change targetParagraphs from str of list of str to str\n",
    "\n",
    "# import ast\n",
    "\n",
    "# for index, row in df_train.iterrows():\n",
    "#     row['targetParagraphs'] = ' '.join(ast.literal_eval(row['targetParagraphs'])).replace('\\\\','')\n",
    "    \n",
    "# for index, row in df_validation.iterrows():\n",
    "#     row['targetParagraphs'] = ' '.join(ast.literal_eval(row['targetParagraphs'])).replace('\\\\','')\n",
    "    \n",
    "# for index, row in df_test.iterrows():\n",
    "#     row['targetParagraphs'] = ' '.join(ast.literal_eval(row['targetParagraphs'])).replace('\\\\','')"
   ]
  },
  {
   "cell_type": "code",
   "execution_count": 206,
   "id": "608292ff",
   "metadata": {},
   "outputs": [
    {
     "data": {
      "text/plain": [
       "(postText      0\n",
       " truthClass    0\n",
       " dtype: int64,\n",
       " postText      0\n",
       " truthClass    0\n",
       " dtype: int64,\n",
       " postText      0\n",
       " truthClass    0\n",
       " dtype: int64)"
      ]
     },
     "execution_count": 206,
     "metadata": {},
     "output_type": "execute_result"
    }
   ],
   "source": [
    "df_train.isnull().sum(), df_validation.isnull().sum(), df_test.isnull().sum()"
   ]
  },
  {
   "cell_type": "code",
   "execution_count": 207,
   "id": "3cba230b",
   "metadata": {},
   "outputs": [
    {
     "data": {
      "text/html": [
       "<div>\n",
       "<style scoped>\n",
       "    .dataframe tbody tr th:only-of-type {\n",
       "        vertical-align: middle;\n",
       "    }\n",
       "\n",
       "    .dataframe tbody tr th {\n",
       "        vertical-align: top;\n",
       "    }\n",
       "\n",
       "    .dataframe thead th {\n",
       "        text-align: right;\n",
       "    }\n",
       "</style>\n",
       "<table border=\"1\" class=\"dataframe\">\n",
       "  <thead>\n",
       "    <tr style=\"text-align: right;\">\n",
       "      <th></th>\n",
       "      <th>postText</th>\n",
       "      <th>truthClass</th>\n",
       "    </tr>\n",
       "  </thead>\n",
       "  <tbody>\n",
       "    <tr>\n",
       "      <th>0</th>\n",
       "      <td>Apple's iOS 9 'App thinning' feature will give...</td>\n",
       "      <td>no-clickbait</td>\n",
       "    </tr>\n",
       "    <tr>\n",
       "      <th>1</th>\n",
       "      <td>RT @kenbrown12: Emerging market investors are ...</td>\n",
       "      <td>no-clickbait</td>\n",
       "    </tr>\n",
       "    <tr>\n",
       "      <th>2</th>\n",
       "      <td>U.S. Soccer should start answering tough quest...</td>\n",
       "      <td>clickbait</td>\n",
       "    </tr>\n",
       "    <tr>\n",
       "      <th>3</th>\n",
       "      <td>How theme parks like Disney World left the mid...</td>\n",
       "      <td>no-clickbait</td>\n",
       "    </tr>\n",
       "    <tr>\n",
       "      <th>4</th>\n",
       "      <td>Could light bulbs hurt your health? One compan...</td>\n",
       "      <td>clickbait</td>\n",
       "    </tr>\n",
       "  </tbody>\n",
       "</table>\n",
       "</div>"
      ],
      "text/plain": [
       "                                            postText    truthClass\n",
       "0  Apple's iOS 9 'App thinning' feature will give...  no-clickbait\n",
       "1  RT @kenbrown12: Emerging market investors are ...  no-clickbait\n",
       "2  U.S. Soccer should start answering tough quest...     clickbait\n",
       "3  How theme parks like Disney World left the mid...  no-clickbait\n",
       "4  Could light bulbs hurt your health? One compan...     clickbait"
      ]
     },
     "execution_count": 207,
     "metadata": {},
     "output_type": "execute_result"
    }
   ],
   "source": [
    "df_validation.head()"
   ]
  },
  {
   "cell_type": "code",
   "execution_count": 208,
   "id": "90a82a6a",
   "metadata": {},
   "outputs": [],
   "source": [
    "name = 'Webis17HeadlineClsData' # Webis17HeadlineClsData or Webis17HeadlineArticleClsData\n",
    "os.makedirs('./'+name, exist_ok=True)"
   ]
  },
  {
   "cell_type": "code",
   "execution_count": 209,
   "id": "8a62fcc7",
   "metadata": {},
   "outputs": [],
   "source": [
    "df_train.to_csv('./'+name+'/train.csv', index=False)\n",
    "df_validation.to_csv('./'+name+'/validation.csv', index=False)\n",
    "df_test.to_csv('./'+name+'/test.csv', index=False)"
   ]
  },
  {
   "cell_type": "code",
   "execution_count": null,
   "id": "b9a0f783",
   "metadata": {},
   "outputs": [],
   "source": []
  }
 ],
 "metadata": {
  "kernelspec": {
   "display_name": "venv",
   "language": "python",
   "name": "venv"
  },
  "language_info": {
   "codemirror_mode": {
    "name": "ipython",
    "version": 3
   },
   "file_extension": ".py",
   "mimetype": "text/x-python",
   "name": "python",
   "nbconvert_exporter": "python",
   "pygments_lexer": "ipython3",
   "version": "3.7.3"
  }
 },
 "nbformat": 4,
 "nbformat_minor": 5
}
